{
 "cells": [
  {
   "cell_type": "code",
   "execution_count": 2,
   "id": "59e045d8",
   "metadata": {},
   "outputs": [],
   "source": [
    "import pandas as pd\n",
    "import re\n",
    "import torch\n",
    "from transformers import pipeline, logging\n",
    "from tqdm import tqdm"
   ]
  },
  {
   "cell_type": "code",
   "execution_count": 4,
   "id": "b66db0b8",
   "metadata": {},
   "outputs": [
    {
     "name": "stdout",
     "output_type": "stream",
     "text": [
      "Using device: CPU\n"
     ]
    }
   ],
   "source": [
    "logging.set_verbosity_error()\n",
    "device = 0 if torch.cuda.is_available() else -1\n",
    "print(f\"Using device: {'GPU' if device == 0 else 'CPU'}\")"
   ]
  },
  {
   "cell_type": "code",
   "execution_count": null,
   "id": "753b0446",
   "metadata": {},
   "outputs": [],
   "source": [
    "summarizer = pipeline(\n",
    "    \"summarization\",\n",
    "    model=\"facebook/bart-large-cnn\",  # can switch to 'google/pegasus-xsum' or 'philschmid/bart-large-cnn-samsum'\n",
    "    tokenizer=\"facebook/bart-large-cnn\",\n",
    "    device=device\n",
    ")"
   ]
  },
  {
   "cell_type": "code",
   "execution_count": 6,
   "id": "24168ec2",
   "metadata": {},
   "outputs": [
    {
     "data": {
      "text/html": [
       "<div>\n",
       "<style scoped>\n",
       "    .dataframe tbody tr th:only-of-type {\n",
       "        vertical-align: middle;\n",
       "    }\n",
       "\n",
       "    .dataframe tbody tr th {\n",
       "        vertical-align: top;\n",
       "    }\n",
       "\n",
       "    .dataframe thead th {\n",
       "        text-align: right;\n",
       "    }\n",
       "</style>\n",
       "<table border=\"1\" class=\"dataframe\">\n",
       "  <thead>\n",
       "    <tr style=\"text-align: right;\">\n",
       "      <th></th>\n",
       "      <th>file</th>\n",
       "      <th>body</th>\n",
       "      <th>email_type</th>\n",
       "    </tr>\n",
       "  </thead>\n",
       "  <tbody>\n",
       "    <tr>\n",
       "      <th>0</th>\n",
       "      <td>allen-p/_sent_mail/10.</td>\n",
       "      <td>traveling to have a business meeting takes the...</td>\n",
       "      <td>meeting</td>\n",
       "    </tr>\n",
       "    <tr>\n",
       "      <th>1</th>\n",
       "      <td>allen-p/_sent_mail/1000.</td>\n",
       "      <td>randy, can you send me a schedule of the salar...</td>\n",
       "      <td>meeting</td>\n",
       "    </tr>\n",
       "    <tr>\n",
       "      <th>2</th>\n",
       "      <td>allen-p/_sent_mail/1003.</td>\n",
       "      <td>please cc the following distribution list with...</td>\n",
       "      <td>project</td>\n",
       "    </tr>\n",
       "    <tr>\n",
       "      <th>3</th>\n",
       "      <td>allen-p/_sent_mail/102.</td>\n",
       "      <td>forwarded by phillip k allenhouect on 10162000...</td>\n",
       "      <td>reminder</td>\n",
       "    </tr>\n",
       "    <tr>\n",
       "      <th>4</th>\n",
       "      <td>allen-p/_sent_mail/103.</td>\n",
       "      <td>mr. buckner, for delivered gas behind san dieg...</td>\n",
       "      <td>request</td>\n",
       "    </tr>\n",
       "  </tbody>\n",
       "</table>\n",
       "</div>"
      ],
      "text/plain": [
       "                       file  \\\n",
       "0    allen-p/_sent_mail/10.   \n",
       "1  allen-p/_sent_mail/1000.   \n",
       "2  allen-p/_sent_mail/1003.   \n",
       "3   allen-p/_sent_mail/102.   \n",
       "4   allen-p/_sent_mail/103.   \n",
       "\n",
       "                                                body email_type  \n",
       "0  traveling to have a business meeting takes the...    meeting  \n",
       "1  randy, can you send me a schedule of the salar...    meeting  \n",
       "2  please cc the following distribution list with...    project  \n",
       "3  forwarded by phillip k allenhouect on 10162000...   reminder  \n",
       "4  mr. buckner, for delivered gas behind san dieg...    request  "
      ]
     },
     "execution_count": 6,
     "metadata": {},
     "output_type": "execute_result"
    }
   ],
   "source": [
    "df = pd.read_csv(\"../data/filtered_enron_emails.csv\")\n",
    "df.head()"
   ]
  },
  {
   "cell_type": "code",
   "execution_count": 7,
   "id": "0947392a",
   "metadata": {},
   "outputs": [],
   "source": [
    "def generate_summary(text):\n",
    "    text = text.strip()\n",
    "    if len(text.split()) < 30:\n",
    "        return \"Too short to summarize.\"\n",
    "    try:\n",
    "        summary = summarizer(text, max_length=100, min_length=25, do_sample=False)\n",
    "        return summary[0]['summary_text']\n",
    "    except Exception as e:\n",
    "        return f\"Error: {str(e)}\""
   ]
  },
  {
   "cell_type": "code",
   "execution_count": 8,
   "id": "e3b12f7d",
   "metadata": {},
   "outputs": [
    {
     "name": "stderr",
     "output_type": "stream",
     "text": [
      "100%|██████████| 200/200 [15:44<00:00,  4.72s/it]\n"
     ]
    }
   ],
   "source": [
    "sample_df = df.head(200).copy()\n",
    "tqdm.pandas()\n",
    "sample_df['summary'] = sample_df['body'].progress_apply(generate_summary)"
   ]
  },
  {
   "cell_type": "code",
   "execution_count": 9,
   "id": "4329dd10",
   "metadata": {},
   "outputs": [
    {
     "name": "stdout",
     "output_type": "stream",
     "text": [
      "\n",
      "📩 Email Body:\n",
      "traveling to have a business meeting takes the fun out of the trip. especially if you have to prepare a presentation. i would suggest holding the business plan meetings here then take a trip without any formal business meetings. i would even try and get some honest opinions on whether a trip is even desired or necessary. as far as the business meetings, i think it would be more productive to try and stimulate discussions across the different groups about what is working and what is not. too often the presenter speaks and the others are quiet just waiting for their turn. the meetings might be better if held in a round table discussion format. my suggestion for where to go is austin. play golf and rent a ski boat and jet ski's. flying somewhere takes too much time.\n",
      "\n",
      "📝 Summary:\n",
      "i would suggest holding the business plan meetings here then take a trip without any formal business meetings. traveling to have a business meeting takes the fun out of the trip. my suggestion for where to go is austin. play golf and rent a ski boat and jet ski's.\n",
      "\n",
      "📩 Email Body:\n",
      "randy, can you send me a schedule of the salary and level of everyone in the scheduling group. plus your thoughts on any changes that need to be made. patti s for example phillip\n",
      "\n",
      "📝 Summary:\n",
      " randy, can you send me a schedule of the salary and level of everyone in the scheduling group. plus your thoughts on any changes that need to be made. patti s for example phillip.\n",
      "\n",
      "📩 Email Body:\n",
      "please cc the following distribution list with updates phillip allen pallenenron.com mike grigsby mike.grigsbyenron.com keith holst kholstenron.com monique sanchez frank ermis john lavorato thank you for your help phillip allen\n",
      "\n",
      "📝 Summary:\n",
      "Please cc the following distribution list with updates: mike grigsby mike.grigsbyenron.com keith holst kholstenron. com monique sanchez frank ermis john lavorato thank you for your help.\n",
      "\n",
      "📩 Email Body:\n",
      "forwarded by phillip k allenhouect on 10162000 0142 pm  buckner, buck buck.bucknerhoneywell.com on 10122000 011221 pm to 'pallenenron.com' pallenenron.com cc subject fw fixed forward or other collar floor gas price terms phillip,  as discussed during our phone conversation, in a parallon 75 microturbine  power generation deal for a national accounts customer, i am developing a  proposal to sell power to customer at fixed or collarfloor price. to do  so i need a corresponding term gas price for same. microturbine is an  onsite generation product developed by honeywell to generate electricity  on customer site degen. using natural gas. in doing so, i need your  best fixed price forward gas price deal for 1, 3, 5, 7 and 10 years for  annualseasonal supply to microturbines to generate fixed kwh for  customer. we have the opportunity to sell customer kwh 's using  microturbine or sell them turbines themselves. kwh deal must have limited  no risk forward gas price to make deal work. therein comes sempra energy  gas trading, truly you.   we are proposing installing 180  240 units across a large number of  stores 60100 in san diego.  store number varies because of installation hurdles face at small percent.   for 68 hours a day microturbine run time  gas requirement for 180 microturbines 227  302 mmcf per year  gas requirement for 240 microturbines 302  403 mmcf per year   gas will likely be consumed from may through september, during peak  electric period.  gas price required burnertip price behind ldc san diego gas  electric  need detail breakout of commodity and transport cost firm or  interruptible.   should you have additional questions, give me a call.  let me assure you, this is real deal   buck buckner, p.e., mba  manager, business development and planning  big box retail sales  honeywell power systems, inc.  8725 pan american frwy  albuquerque, nm 87113  5057986424  5057986050x  5052204129  8885013145\n",
      "\n",
      "📝 Summary:\n",
      "Buck buckner, p.e., mba  manager, business development and planning  big box retail sales  honeywell power systems, inc. i need your  best fixed price forward gas price deal for 1, 3, 5, 7 and 10 years for  annualseasonal supply to microturbines to generate fixed kwh for  customer. we have the opportunity to sell customer kwh 's using  micro turbine or sell them turbines themselves. k\n",
      "\n",
      "📩 Email Body:\n",
      "mr. buckner, for delivered gas behind san diego, enron energy services is the appropriate enron entity. i have forwarded your request to zarin imam at ees. her phone number is 7138537107. phillip allen\n",
      "\n",
      "📝 Summary:\n",
      "i have forwarded your request to zarin imam at ees. her phone number is 7138537107. mr. buckner, for delivered gas behind san diego, enron energy services is the appropriate enron entity.\n",
      "\n",
      "📩 Email Body:\n",
      "forwarded by phillip k allenhouect on 10092000 0216 pm  richard burchfield 10062000 0659 am to phillip k allenhouectect cc beth perlmanhouectect subject consolidated positions issues  to do list phillip, below is the issues  to do list as we go forward with documenting the requirements for consolidated physicalfinancial positions and transport trade capture. what we need to focus on is the first bullet in allan's list the need for a single set of requirements. although the meeting with keith, on wednesday, was informative the solution of creating a infinitely dynamic consolidated position screen, will be extremely difficult and time consuming. throughout the meeting on wednesday, keith alluded to the inability to get consensus amongst the traders on the presentation of the consolidated position, so the solution was to make it so that a trader can arrange the position screen to their liking much like excel. what needs to happen on monday from 3  5 is a effort to design a desired layout for the consolidated position screen, this is critical. this does not exclude building a capability to create a more flexible position presentation for the future, but in order to create a plan that can be measured we need firm requirements. also, to reiterate that the goals of this project is a project plan on consolidate physicalfinancial positions and transport trade capture. the other issues that have been raised will be capture as projects on to themselves, and will need to be prioritised as efforts outside of this project. i have been involved in most of the meetings and the discussions have been good. i believe there has been good communication between the teams, but now we need to have focus on the objectives we set out to solve. richard  forwarded by richard burchfieldhouect on 10062000 0834 am  allan severude 10052000 0603 pm to richard burchfieldhouectect cc peggy alixhouectect, russ seversonhouectect, scott millshouectect, kenny hahouectect subject consolidated positions issues  to do list from our initial set of meetings with the traders regarding consolidated positions, i think we still have the following issues we don't have a single point of contact from the trading group. we've had three meetings which brought out very different issues from different traders. we really need a single point of contact to help drive the trader requirements and help come to a consensus regarding the requirements. we're getting hit with a lot of different requests, many of which appear to be outside the scope of position consolidation. things left to do i think it may be useful to try to formulate a high level project goal to make it as clear as possible what we're trying to accomplish with this project. it'll help determine which requests fall under the project scope. go through the list of requests to determine which are in scope for this project and which fall out of scope. for those in scope, work to define relative importance priority of each and work with traders to define the exact requirements of each. define the desired lay out of the position manager screen main view and all drill downs. use the above to formulate a project plan. things requested thus far no particular order inclusion of sitara physical deals into the tds position manager and deal ticker. customized rows and columns in the position manager ad hoc rowscolumns that add up existing position manager rowscolumns. new drill down in the position manager to break out positions by physical, transport, swaps, options, ... addition of a curve tab to the position manager to show the realtime values of all curves on which the desk has a position. ability to split the current position grid to allow daily positions to be shown directly above monthly positions. each grouped column in the top grid would be tied to a grouped column in the bottom grid. ability to properly show curve shift for floatforfloat deals determine the appropriate positions to show for each gas daily for monthly index, physical gas for nymex, physical gas for inside ferc, physical gas for mid market. ability for tds to pull valuation results based on a tds flag instead of using official valuations. position and pl aggregation across all gas desks. ability to include the gas price book into tds inclusion of spread options in our systems. ability to handle volatility skew and correlations. ability to revalue all options incrementally throughout the trading day. approximate delta changes between valuations using instantaneous gamma or a gamma grid. valuation of gas daily options. a new position screen for options months x strike x delta. tbd. inclusion of positions for exotic options currently managed in spreadsheets. ability to isolate the position change due to changed deals in the position manager. ability to view change deal pl in the tds deal ticker. show new deal terms, prior deal terms, and net pl affect of the change. eliminate change deals with no economic impact from the tds deal ticker. position drill down in the position manager to isolate the impact of individual deals on the position total in a grid cell. benchmark positions in tds. deployment of tds in canada. currency and volume uom conversions. implicit and explicit position break out issues.  allan. ps colleen is setting up a meeting tomorrow to discuss the direction for transport. hopefully we'll know much better where that part stands at that point.\n",
      "\n",
      "📝 Summary:\n",
      "Error: index out of range in self\n",
      "\n",
      "📩 Email Body:\n",
      "forwarded by phillip k allenhouect on 10092000 0200 pm  richard burchfield 10062000 0659 am to phillip k allenhouectect cc beth perlmanhouectect subject consolidated positions issues  to do list phillip, below is the issues  to do list as we go forward with documenting the requirements for consolidated physicalfinancial positions and transport trade capture. what we need to focus on is the first bullet in allan's list the need for a single set of requirements. although the meeting with keith, on wednesday, was informative the solution of creating a infinitely dynamic consolidated position screen, will be extremely difficult and time consuming. throughout the meeting on wednesday, keith alluded to the inability to get consensus amongst the traders on the presentation of the consolidated position, so the solution was to make it so that a trader can arrange the position screen to their liking much like excel. what needs to happen on monday from 3  5 is a effort to design a desired layout for the consolidated position screen, this is critical. this does not exclude building a capability to create a more flexible position presentation for the future, but in order to create a plan that can be measured we need firm requirements. also, to reiterate that the goals of this project is a project plan on consolidate physicalfinancial positions and transport trade capture. the other issues that have been raised will be capture as projects on to themselves, and will need to be prioritised as efforts outside of this project. i have been involved in most of the meetings and the discussions have been good. i believe there has been good communication between the teams, but now we need to have focus on the objectives we set out to solve. richard  forwarded by richard burchfieldhouect on 10062000 0834 am  allan severude 10052000 0603 pm to richard burchfieldhouectect cc peggy alixhouectect, russ seversonhouectect, scott millshouectect, kenny hahouectect subject consolidated positions issues  to do list from our initial set of meetings with the traders regarding consolidated positions, i think we still have the following issues we don't have a single point of contact from the trading group. we've had three meetings which brought out very different issues from different traders. we really need a single point of contact to help drive the trader requirements and help come to a consensus regarding the requirements. we're getting hit with a lot of different requests, many of which appear to be outside the scope of position consolidation. things left to do i think it may be useful to try to formulate a high level project goal to make it as clear as possible what we're trying to accomplish with this project. it'll help determine which requests fall under the project scope. go through the list of requests to determine which are in scope for this project and which fall out of scope. for those in scope, work to define relative importance priority of each and work with traders to define the exact requirements of each. define the desired lay out of the position manager screen main view and all drill downs. use the above to formulate a project plan. things requested thus far no particular order inclusion of sitara physical deals into the tds position manager and deal ticker. customized rows and columns in the position manager ad hoc rowscolumns that add up existing position manager rowscolumns. new drill down in the position manager to break out positions by physical, transport, swaps, options, ... addition of a curve tab to the position manager to show the realtime values of all curves on which the desk has a position. ability to split the current position grid to allow daily positions to be shown directly above monthly positions. each grouped column in the top grid would be tied to a grouped column in the bottom grid. ability to properly show curve shift for floatforfloat deals determine the appropriate positions to show for each gas daily for monthly index, physical gas for nymex, physical gas for inside ferc, physical gas for mid market. ability for tds to pull valuation results based on a tds flag instead of using official valuations. position and pl aggregation across all gas desks. ability to include the gas price book into tds inclusion of spread options in our systems. ability to handle volatility skew and correlations. ability to revalue all options incrementally throughout the trading day. approximate delta changes between valuations using instantaneous gamma or a gamma grid. valuation of gas daily options. a new position screen for options months x strike x delta. tbd. inclusion of positions for exotic options currently managed in spreadsheets. ability to isolate the position change due to changed deals in the position manager. ability to view change deal pl in the tds deal ticker. show new deal terms, prior deal terms, and net pl affect of the change. eliminate change deals with no economic impact from the tds deal ticker. position drill down in the position manager to isolate the impact of individual deals on the position total in a grid cell. benchmark positions in tds. deployment of tds in canada. currency and volume uom conversions. implicit and explicit position break out issues.  allan. ps colleen is setting up a meeting tomorrow to discuss the direction for transport. hopefully we'll know much better where that part stands at that point.\n",
      "\n",
      "📝 Summary:\n",
      "Error: index out of range in self\n",
      "\n",
      "📩 Email Body:\n",
      "forwarded by phillip k allenhouect on 10042000 0423 pm  enron north america corp. from airam arteaga 10042000 1223 pm to phillip k allenhouectect, thomas a martinhouectect, scott nealhouectect, john arnoldhouectect, grant massonhouectect, ted murphyhouectect, vladimir gornyhouectect, frank haydencorpenronenron cc rita hennessynaenronenron, ina rangelhouectect, laura hardercorpenronenron, kimberly brownhouectect, araceli romeronaenronenron, kimberly hillishouectect subject var, reporting and resources meeting please plan to attend the below meeting topic var, reporting and resources meeting date wednesday, october 11th time 230  330 location eb30c1 if you have any questionsconflicts, please feel free to call me. thanks, rain x.31560\n",
      "\n",
      "📝 Summary:\n",
      "Enron north america corp. will hold a meeting on October 11th at 230  330 location eb30c1. If you have any questions, please feel free to call me.\n",
      "\n",
      "📩 Email Body:\n",
      "tim, mike grigsby is having problems with accessing the west power site. can you please make sure he has an active password. thank you, phillip\n",
      "\n",
      "📝 Summary:\n",
      "Too short to summarize.\n",
      "\n",
      "📩 Email Body:\n",
      "forwarded by phillip k allenhouect on 10032000 0430 pm  george richards cbpresaustin.rr.com on 10032000 063556 am please respond to cbpresaustin.rr.com to phillip allen pallenenron.com cc larry lewter retwellmail.sanmarcos.net subject westgate westgate enclosed are demographics on the westgate site from investor's alliance. investor's alliance says that these demographics are similar to the package on san marcos that you received earlier. if there are any other questions or information requirements, let me know. then, let me know your interest level in the westgate project san marcos the property across the street from the sagewood units in san marcos is for sale and approved for 134 units. the land is selling for 2.50 per square foot as it is one of only two remaining approved multifamily parcels in west san marcos, which now has a moratorium on development. several new studies we have looked at show that the rents for our duplexes and for these new units are going to be significantly higher, roughly 1.25 per square foot if leased for the entire unit on a 12month lease and 1.301.40 psf if leased on a 12month term, but by individual room. this property will have the best location for student housing of all new projects, just as the duplexes do now. if this project is of serious interest to you, please let me know as there is a very, very short window of opportunity. the equity requirement is not yet known, but it would be likely to be 300,000 to secure the land. i will know more on this question later today. sincerely, george w. richards president, creekside builders, llc  winmail.dat\n",
      "\n",
      "📝 Summary:\n",
      "The land is selling for 2.50 per square foot. The equity requirement is not yet known, but it would be likely to be 300,000 to secure the land. This property will have the best location for student housing of all new projects.\n"
     ]
    }
   ],
   "source": [
    "for i in range(10):\n",
    "    print(f\"\\n📩 Email Body:\\n{sample_df.iloc[i]['body']}\")\n",
    "    print(f\"\\n📝 Summary:\\n{sample_df.iloc[i]['summary']}\")"
   ]
  }
 ],
 "metadata": {
  "kernelspec": {
   "display_name": "Python 3",
   "language": "python",
   "name": "python3"
  },
  "language_info": {
   "codemirror_mode": {
    "name": "ipython",
    "version": 3
   },
   "file_extension": ".py",
   "mimetype": "text/x-python",
   "name": "python",
   "nbconvert_exporter": "python",
   "pygments_lexer": "ipython3",
   "version": "3.12.0"
  }
 },
 "nbformat": 4,
 "nbformat_minor": 5
}
