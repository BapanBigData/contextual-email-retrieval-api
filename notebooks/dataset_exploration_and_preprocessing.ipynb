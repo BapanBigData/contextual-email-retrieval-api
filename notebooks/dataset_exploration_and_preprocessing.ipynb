{
 "cells": [
  {
   "cell_type": "markdown",
   "id": "5ca39fc4",
   "metadata": {},
   "source": [
    "#### **1. Dataset Exploration & Preprocessing:**\n",
    "\n",
    "* In this note, I have performed the `dataset exploration & preprocessing` steps.\n",
    "* **Step 1:** Read the data from `../data/emails.csv` using pandas.\n",
    "* **Step 2:** Checked the shape and null values in the dataset.\n",
    "* **Step 3:** Removed metadata and signatures from the dataset, and separated the `email body` from the main email.\n",
    "* **Step 4:** Added a column called `body` which contains the main content of the emails (cleaned body).\n",
    "* **Step 5:** Categorized the emails into several types (e.g., meeting, project, request) by parsing keywords from the email body.\n",
    "* **Step 6:** Finally, saved the processed data into separate CSV files in the same directory by filtering on `email_types` such as meeting, project, request, etc.\n"
   ]
  },
  {
   "cell_type": "code",
   "execution_count": 1,
   "id": "d72a0f88",
   "metadata": {},
   "outputs": [],
   "source": [
    "# require imports\n",
    "import pandas as pd"
   ]
  },
  {
   "cell_type": "code",
   "execution_count": 2,
   "id": "80b34043",
   "metadata": {},
   "outputs": [],
   "source": [
    "# read the \n",
    "df = pd.read_csv(\"../data/emails.csv\")"
   ]
  },
  {
   "cell_type": "code",
   "execution_count": null,
   "id": "592db752",
   "metadata": {},
   "outputs": [
    {
     "data": {
      "text/plain": [
       "(517401, 2)"
      ]
     },
     "execution_count": 3,
     "metadata": {},
     "output_type": "execute_result"
    }
   ],
   "source": [
    "# shape of the dataset\n",
    "df.shape"
   ]
  },
  {
   "cell_type": "code",
   "execution_count": null,
   "id": "68600600",
   "metadata": {},
   "outputs": [
    {
     "data": {
      "text/html": [
       "<div>\n",
       "<style scoped>\n",
       "    .dataframe tbody tr th:only-of-type {\n",
       "        vertical-align: middle;\n",
       "    }\n",
       "\n",
       "    .dataframe tbody tr th {\n",
       "        vertical-align: top;\n",
       "    }\n",
       "\n",
       "    .dataframe thead th {\n",
       "        text-align: right;\n",
       "    }\n",
       "</style>\n",
       "<table border=\"1\" class=\"dataframe\">\n",
       "  <thead>\n",
       "    <tr style=\"text-align: right;\">\n",
       "      <th></th>\n",
       "      <th>file</th>\n",
       "      <th>message</th>\n",
       "    </tr>\n",
       "  </thead>\n",
       "  <tbody>\n",
       "    <tr>\n",
       "      <th>0</th>\n",
       "      <td>allen-p/_sent_mail/1.</td>\n",
       "      <td>Message-ID: &lt;18782981.1075855378110.JavaMail.e...</td>\n",
       "    </tr>\n",
       "    <tr>\n",
       "      <th>1</th>\n",
       "      <td>allen-p/_sent_mail/10.</td>\n",
       "      <td>Message-ID: &lt;15464986.1075855378456.JavaMail.e...</td>\n",
       "    </tr>\n",
       "    <tr>\n",
       "      <th>2</th>\n",
       "      <td>allen-p/_sent_mail/100.</td>\n",
       "      <td>Message-ID: &lt;24216240.1075855687451.JavaMail.e...</td>\n",
       "    </tr>\n",
       "    <tr>\n",
       "      <th>3</th>\n",
       "      <td>allen-p/_sent_mail/1000.</td>\n",
       "      <td>Message-ID: &lt;13505866.1075863688222.JavaMail.e...</td>\n",
       "    </tr>\n",
       "    <tr>\n",
       "      <th>4</th>\n",
       "      <td>allen-p/_sent_mail/1001.</td>\n",
       "      <td>Message-ID: &lt;30922949.1075863688243.JavaMail.e...</td>\n",
       "    </tr>\n",
       "    <tr>\n",
       "      <th>5</th>\n",
       "      <td>allen-p/_sent_mail/1002.</td>\n",
       "      <td>Message-ID: &lt;30965995.1075863688265.JavaMail.e...</td>\n",
       "    </tr>\n",
       "    <tr>\n",
       "      <th>6</th>\n",
       "      <td>allen-p/_sent_mail/1003.</td>\n",
       "      <td>Message-ID: &lt;16254169.1075863688286.JavaMail.e...</td>\n",
       "    </tr>\n",
       "    <tr>\n",
       "      <th>7</th>\n",
       "      <td>allen-p/_sent_mail/1004.</td>\n",
       "      <td>Message-ID: &lt;17189699.1075863688308.JavaMail.e...</td>\n",
       "    </tr>\n",
       "    <tr>\n",
       "      <th>8</th>\n",
       "      <td>allen-p/_sent_mail/101.</td>\n",
       "      <td>Message-ID: &lt;20641191.1075855687472.JavaMail.e...</td>\n",
       "    </tr>\n",
       "    <tr>\n",
       "      <th>9</th>\n",
       "      <td>allen-p/_sent_mail/102.</td>\n",
       "      <td>Message-ID: &lt;30795301.1075855687494.JavaMail.e...</td>\n",
       "    </tr>\n",
       "  </tbody>\n",
       "</table>\n",
       "</div>"
      ],
      "text/plain": [
       "                       file                                            message\n",
       "0     allen-p/_sent_mail/1.  Message-ID: <18782981.1075855378110.JavaMail.e...\n",
       "1    allen-p/_sent_mail/10.  Message-ID: <15464986.1075855378456.JavaMail.e...\n",
       "2   allen-p/_sent_mail/100.  Message-ID: <24216240.1075855687451.JavaMail.e...\n",
       "3  allen-p/_sent_mail/1000.  Message-ID: <13505866.1075863688222.JavaMail.e...\n",
       "4  allen-p/_sent_mail/1001.  Message-ID: <30922949.1075863688243.JavaMail.e...\n",
       "5  allen-p/_sent_mail/1002.  Message-ID: <30965995.1075863688265.JavaMail.e...\n",
       "6  allen-p/_sent_mail/1003.  Message-ID: <16254169.1075863688286.JavaMail.e...\n",
       "7  allen-p/_sent_mail/1004.  Message-ID: <17189699.1075863688308.JavaMail.e...\n",
       "8   allen-p/_sent_mail/101.  Message-ID: <20641191.1075855687472.JavaMail.e...\n",
       "9   allen-p/_sent_mail/102.  Message-ID: <30795301.1075855687494.JavaMail.e..."
      ]
     },
     "execution_count": 3,
     "metadata": {},
     "output_type": "execute_result"
    }
   ],
   "source": [
    "# read the head\n",
    "df.head(10)"
   ]
  },
  {
   "cell_type": "code",
   "execution_count": null,
   "id": "0406170c",
   "metadata": {},
   "outputs": [
    {
     "data": {
      "text/plain": [
       "file       0\n",
       "message    0\n",
       "dtype: int64"
      ]
     },
     "execution_count": 5,
     "metadata": {},
     "output_type": "execute_result"
    }
   ],
   "source": [
    "# check for null values\n",
    "df.isnull().sum()"
   ]
  },
  {
   "cell_type": "code",
   "execution_count": null,
   "id": "1282b240",
   "metadata": {},
   "outputs": [
    {
     "name": "stdout",
     "output_type": "stream",
     "text": [
      "Message-ID: <18782981.1075855378110.JavaMail.evans@thyme>\n",
      "Date: Mon, 14 May 2001 16:39:00 -0700 (PDT)\n",
      "From: phillip.allen@enron.com\n",
      "To: tim.belden@enron.com\n",
      "Subject: \n",
      "Mime-Version: 1.0\n",
      "Content-Type: text/plain; charset=us-ascii\n",
      "Content-Transfer-Encoding: 7bit\n",
      "X-From: Phillip K Allen\n",
      "X-To: Tim Belden <Tim Belden/Enron@EnronXGate>\n",
      "X-cc: \n",
      "X-bcc: \n",
      "X-Folder: \\Phillip_Allen_Jan2002_1\\Allen, Phillip K.\\'Sent Mail\n",
      "X-Origin: Allen-P\n",
      "X-FileName: pallen (Non-Privileged).pst\n",
      "\n",
      "Here is our forecast\n",
      "\n",
      " \n"
     ]
    }
   ],
   "source": [
    "# see some of the mail to understand the message structure\n",
    "print(df['message'].values[0])"
   ]
  },
  {
   "cell_type": "code",
   "execution_count": 7,
   "id": "5b726031",
   "metadata": {},
   "outputs": [
    {
     "name": "stdout",
     "output_type": "stream",
     "text": [
      "Message-ID: <15464986.1075855378456.JavaMail.evans@thyme>\n",
      "Date: Fri, 4 May 2001 13:51:00 -0700 (PDT)\n",
      "From: phillip.allen@enron.com\n",
      "To: john.lavorato@enron.com\n",
      "Subject: Re:\n",
      "Mime-Version: 1.0\n",
      "Content-Type: text/plain; charset=us-ascii\n",
      "Content-Transfer-Encoding: 7bit\n",
      "X-From: Phillip K Allen\n",
      "X-To: John J Lavorato <John J Lavorato/ENRON@enronXgate@ENRON>\n",
      "X-cc: \n",
      "X-bcc: \n",
      "X-Folder: \\Phillip_Allen_Jan2002_1\\Allen, Phillip K.\\'Sent Mail\n",
      "X-Origin: Allen-P\n",
      "X-FileName: pallen (Non-Privileged).pst\n",
      "\n",
      "Traveling to have a business meeting takes the fun out of the trip.  Especially if you have to prepare a presentation.  I would suggest holding the business plan meetings here then take a trip without any formal business meetings.  I would even try and get some honest opinions on whether a trip is even desired or necessary.\n",
      "\n",
      "As far as the business meetings, I think it would be more productive to try and stimulate discussions across the different groups about what is working and what is not.  Too often the presenter speaks and the others are quiet just waiting for their turn.   The meetings might be better if held in a round table discussion format.  \n",
      "\n",
      "My suggestion for where to go is Austin.  Play golf and rent a ski boat and jet ski's.  Flying somewhere takes too much time.\n",
      "\n"
     ]
    }
   ],
   "source": [
    "print(df['message'].values[1])"
   ]
  },
  {
   "cell_type": "code",
   "execution_count": 8,
   "id": "0d166be0",
   "metadata": {},
   "outputs": [
    {
     "name": "stdout",
     "output_type": "stream",
     "text": [
      "Message-ID: <24216240.1075855687451.JavaMail.evans@thyme>\n",
      "Date: Wed, 18 Oct 2000 03:00:00 -0700 (PDT)\n",
      "From: phillip.allen@enron.com\n",
      "To: leah.arsdall@enron.com\n",
      "Subject: Re: test\n",
      "Mime-Version: 1.0\n",
      "Content-Type: text/plain; charset=us-ascii\n",
      "Content-Transfer-Encoding: 7bit\n",
      "X-From: Phillip K Allen\n",
      "X-To: Leah Van Arsdall\n",
      "X-cc: \n",
      "X-bcc: \n",
      "X-Folder: \\Phillip_Allen_Dec2000\\Notes Folders\\'sent mail\n",
      "X-Origin: Allen-P\n",
      "X-FileName: pallen.nsf\n",
      "\n",
      "test successful.  way to go!!!\n"
     ]
    }
   ],
   "source": [
    "print(df['message'].values[2])"
   ]
  },
  {
   "cell_type": "code",
   "execution_count": 9,
   "id": "c6104355",
   "metadata": {},
   "outputs": [
    {
     "name": "stdout",
     "output_type": "stream",
     "text": [
      "Message-ID: <25459584.1075855687536.JavaMail.evans@thyme>\n",
      "Date: Fri, 13 Oct 2000 06:45:00 -0700 (PDT)\n",
      "From: phillip.allen@enron.com\n",
      "To: stagecoachmama@hotmail.com\n",
      "Subject: \n",
      "Mime-Version: 1.0\n",
      "Content-Type: text/plain; charset=us-ascii\n",
      "Content-Transfer-Encoding: 7bit\n",
      "X-From: Phillip K Allen\n",
      "X-To: stagecoachmama@hotmail.com\n",
      "X-cc: \n",
      "X-bcc: \n",
      "X-Folder: \\Phillip_Allen_Dec2000\\Notes Folders\\'sent mail\n",
      "X-Origin: Allen-P\n",
      "X-FileName: pallen.nsf\n",
      "\n",
      "Lucy,\n",
      "\n",
      " Here are the rentrolls:\n",
      "\n",
      "\n",
      "\n",
      " Open them and save in the rentroll folder.  Follow these steps so you don't \n",
      "misplace these files.\n",
      "\n",
      " 1.  Click on Save As\n",
      " 2.  Click on the drop down triangle under Save in:\n",
      " 3.  Click on the  (C): drive\n",
      " 4.  Click on the appropriate folder\n",
      " 5.  Click on Save:\n",
      "\n",
      "Phillip\n"
     ]
    }
   ],
   "source": [
    "print(df['message'].values[11])"
   ]
  },
  {
   "cell_type": "markdown",
   "id": "99e16978",
   "metadata": {},
   "source": [
    "##### **Data Preprocessing**"
   ]
  },
  {
   "cell_type": "code",
   "execution_count": 10,
   "id": "6264246b",
   "metadata": {},
   "outputs": [],
   "source": [
    "import re\n",
    "\n",
    "# Step 1: Split header and body using the first blank line\n",
    "def extract_email_body(raw_message):\n",
    "    parts = raw_message.split('\\n\\n', 1)  # split into header and body\n",
    "    return parts[1] if len(parts) > 1 else raw_message  # return body\n",
    "\n",
    "# Step 2: Clean the body\n",
    "def clean_body(text):\n",
    "    text = text.lower()  # lowercase\n",
    "    text = re.sub(r'\\s+', ' ', text)  # remove extra whitespaces/newlines\n",
    "    text = re.sub(r'[^a-zA-Z0-9\\s\\.\\,\\']', '', text)  # keep only basic punctuation\n",
    "    return text.strip()"
   ]
  },
  {
   "cell_type": "code",
   "execution_count": 11,
   "id": "cdd68994",
   "metadata": {},
   "outputs": [],
   "source": [
    "# Apply both\n",
    "df['body'] = df['message'].apply(extract_email_body).apply(clean_body)"
   ]
  },
  {
   "cell_type": "code",
   "execution_count": 12,
   "id": "ee53e7e4",
   "metadata": {},
   "outputs": [
    {
     "data": {
      "text/html": [
       "<div>\n",
       "<style scoped>\n",
       "    .dataframe tbody tr th:only-of-type {\n",
       "        vertical-align: middle;\n",
       "    }\n",
       "\n",
       "    .dataframe tbody tr th {\n",
       "        vertical-align: top;\n",
       "    }\n",
       "\n",
       "    .dataframe thead th {\n",
       "        text-align: right;\n",
       "    }\n",
       "</style>\n",
       "<table border=\"1\" class=\"dataframe\">\n",
       "  <thead>\n",
       "    <tr style=\"text-align: right;\">\n",
       "      <th></th>\n",
       "      <th>file</th>\n",
       "      <th>message</th>\n",
       "      <th>body</th>\n",
       "    </tr>\n",
       "  </thead>\n",
       "  <tbody>\n",
       "    <tr>\n",
       "      <th>0</th>\n",
       "      <td>allen-p/_sent_mail/1.</td>\n",
       "      <td>Message-ID: &lt;18782981.1075855378110.JavaMail.e...</td>\n",
       "      <td>here is our forecast</td>\n",
       "    </tr>\n",
       "    <tr>\n",
       "      <th>1</th>\n",
       "      <td>allen-p/_sent_mail/10.</td>\n",
       "      <td>Message-ID: &lt;15464986.1075855378456.JavaMail.e...</td>\n",
       "      <td>traveling to have a business meeting takes the...</td>\n",
       "    </tr>\n",
       "    <tr>\n",
       "      <th>2</th>\n",
       "      <td>allen-p/_sent_mail/100.</td>\n",
       "      <td>Message-ID: &lt;24216240.1075855687451.JavaMail.e...</td>\n",
       "      <td>test successful. way to go</td>\n",
       "    </tr>\n",
       "    <tr>\n",
       "      <th>3</th>\n",
       "      <td>allen-p/_sent_mail/1000.</td>\n",
       "      <td>Message-ID: &lt;13505866.1075863688222.JavaMail.e...</td>\n",
       "      <td>randy, can you send me a schedule of the salar...</td>\n",
       "    </tr>\n",
       "    <tr>\n",
       "      <th>4</th>\n",
       "      <td>allen-p/_sent_mail/1001.</td>\n",
       "      <td>Message-ID: &lt;30922949.1075863688243.JavaMail.e...</td>\n",
       "      <td>let's shoot for tuesday at 1145.</td>\n",
       "    </tr>\n",
       "  </tbody>\n",
       "</table>\n",
       "</div>"
      ],
      "text/plain": [
       "                       file  \\\n",
       "0     allen-p/_sent_mail/1.   \n",
       "1    allen-p/_sent_mail/10.   \n",
       "2   allen-p/_sent_mail/100.   \n",
       "3  allen-p/_sent_mail/1000.   \n",
       "4  allen-p/_sent_mail/1001.   \n",
       "\n",
       "                                             message  \\\n",
       "0  Message-ID: <18782981.1075855378110.JavaMail.e...   \n",
       "1  Message-ID: <15464986.1075855378456.JavaMail.e...   \n",
       "2  Message-ID: <24216240.1075855687451.JavaMail.e...   \n",
       "3  Message-ID: <13505866.1075863688222.JavaMail.e...   \n",
       "4  Message-ID: <30922949.1075863688243.JavaMail.e...   \n",
       "\n",
       "                                                body  \n",
       "0                               here is our forecast  \n",
       "1  traveling to have a business meeting takes the...  \n",
       "2                         test successful. way to go  \n",
       "3  randy, can you send me a schedule of the salar...  \n",
       "4                   let's shoot for tuesday at 1145.  "
      ]
     },
     "execution_count": 12,
     "metadata": {},
     "output_type": "execute_result"
    }
   ],
   "source": [
    "df.head()"
   ]
  },
  {
   "cell_type": "code",
   "execution_count": null,
   "id": "861c6dea",
   "metadata": {},
   "outputs": [
    {
     "name": "stdout",
     "output_type": "stream",
     "text": [
      "Message-ID: <24216240.1075855687451.JavaMail.evans@thyme>\n",
      "Date: Wed, 18 Oct 2000 03:00:00 -0700 (PDT)\n",
      "From: phillip.allen@enron.com\n",
      "To: leah.arsdall@enron.com\n",
      "Subject: Re: test\n",
      "Mime-Version: 1.0\n",
      "Content-Type: text/plain; charset=us-ascii\n",
      "Content-Transfer-Encoding: 7bit\n",
      "X-From: Phillip K Allen\n",
      "X-To: Leah Van Arsdall\n",
      "X-cc: \n",
      "X-bcc: \n",
      "X-Folder: \\Phillip_Allen_Dec2000\\Notes Folders\\'sent mail\n",
      "X-Origin: Allen-P\n",
      "X-FileName: pallen.nsf\n",
      "\n",
      "test successful.  way to go!!!\n"
     ]
    }
   ],
   "source": [
    "# message before cleaned\n",
    "print(df['message'].values[2])"
   ]
  },
  {
   "cell_type": "code",
   "execution_count": null,
   "id": "63a1af72",
   "metadata": {},
   "outputs": [
    {
     "name": "stdout",
     "output_type": "stream",
     "text": [
      "test successful. way to go\n"
     ]
    }
   ],
   "source": [
    "# message after cleaned\n",
    "print(df['body'].values[2])"
   ]
  },
  {
   "cell_type": "markdown",
   "id": "13d47b01",
   "metadata": {},
   "source": [
    "##### **Categorized the Emails**"
   ]
  },
  {
   "cell_type": "code",
   "execution_count": 15,
   "id": "56a7bd5c",
   "metadata": {},
   "outputs": [],
   "source": [
    "# Detect emails that are about meetings, project updates, reminders\n",
    "\n",
    "# Define keyword categories\n",
    "keywords = {\n",
    "    'meeting': ['meeting', 'schedule', 'calendar', 'zoom', 'teams'],\n",
    "    'project': ['project', 'update', 'status', 'deadline', 'milestone'],\n",
    "    'request': ['request', 'can you', 'could you', 'please send'],\n",
    "    'reminder': ['reminder', 'don’t forget', 'as discussed'],\n",
    "}\n",
    "\n",
    "# Tag emails with categories\n",
    "def detect_category(text):\n",
    "    for category, words in keywords.items():\n",
    "        for word in words:\n",
    "            if word in text:\n",
    "                return category\n",
    "    return 'other'\n",
    "\n",
    "df['email_type'] = df['body'].apply(detect_category)"
   ]
  },
  {
   "cell_type": "code",
   "execution_count": 16,
   "id": "9128ef6c",
   "metadata": {},
   "outputs": [
    {
     "data": {
      "text/html": [
       "<div>\n",
       "<style scoped>\n",
       "    .dataframe tbody tr th:only-of-type {\n",
       "        vertical-align: middle;\n",
       "    }\n",
       "\n",
       "    .dataframe tbody tr th {\n",
       "        vertical-align: top;\n",
       "    }\n",
       "\n",
       "    .dataframe thead th {\n",
       "        text-align: right;\n",
       "    }\n",
       "</style>\n",
       "<table border=\"1\" class=\"dataframe\">\n",
       "  <thead>\n",
       "    <tr style=\"text-align: right;\">\n",
       "      <th></th>\n",
       "      <th>file</th>\n",
       "      <th>message</th>\n",
       "      <th>body</th>\n",
       "      <th>email_type</th>\n",
       "    </tr>\n",
       "  </thead>\n",
       "  <tbody>\n",
       "    <tr>\n",
       "      <th>0</th>\n",
       "      <td>allen-p/_sent_mail/1.</td>\n",
       "      <td>Message-ID: &lt;18782981.1075855378110.JavaMail.e...</td>\n",
       "      <td>here is our forecast</td>\n",
       "      <td>other</td>\n",
       "    </tr>\n",
       "    <tr>\n",
       "      <th>1</th>\n",
       "      <td>allen-p/_sent_mail/10.</td>\n",
       "      <td>Message-ID: &lt;15464986.1075855378456.JavaMail.e...</td>\n",
       "      <td>traveling to have a business meeting takes the...</td>\n",
       "      <td>meeting</td>\n",
       "    </tr>\n",
       "    <tr>\n",
       "      <th>2</th>\n",
       "      <td>allen-p/_sent_mail/100.</td>\n",
       "      <td>Message-ID: &lt;24216240.1075855687451.JavaMail.e...</td>\n",
       "      <td>test successful. way to go</td>\n",
       "      <td>other</td>\n",
       "    </tr>\n",
       "    <tr>\n",
       "      <th>3</th>\n",
       "      <td>allen-p/_sent_mail/1000.</td>\n",
       "      <td>Message-ID: &lt;13505866.1075863688222.JavaMail.e...</td>\n",
       "      <td>randy, can you send me a schedule of the salar...</td>\n",
       "      <td>meeting</td>\n",
       "    </tr>\n",
       "    <tr>\n",
       "      <th>4</th>\n",
       "      <td>allen-p/_sent_mail/1001.</td>\n",
       "      <td>Message-ID: &lt;30922949.1075863688243.JavaMail.e...</td>\n",
       "      <td>let's shoot for tuesday at 1145.</td>\n",
       "      <td>other</td>\n",
       "    </tr>\n",
       "  </tbody>\n",
       "</table>\n",
       "</div>"
      ],
      "text/plain": [
       "                       file  \\\n",
       "0     allen-p/_sent_mail/1.   \n",
       "1    allen-p/_sent_mail/10.   \n",
       "2   allen-p/_sent_mail/100.   \n",
       "3  allen-p/_sent_mail/1000.   \n",
       "4  allen-p/_sent_mail/1001.   \n",
       "\n",
       "                                             message  \\\n",
       "0  Message-ID: <18782981.1075855378110.JavaMail.e...   \n",
       "1  Message-ID: <15464986.1075855378456.JavaMail.e...   \n",
       "2  Message-ID: <24216240.1075855687451.JavaMail.e...   \n",
       "3  Message-ID: <13505866.1075863688222.JavaMail.e...   \n",
       "4  Message-ID: <30922949.1075863688243.JavaMail.e...   \n",
       "\n",
       "                                                body email_type  \n",
       "0                               here is our forecast      other  \n",
       "1  traveling to have a business meeting takes the...    meeting  \n",
       "2                         test successful. way to go      other  \n",
       "3  randy, can you send me a schedule of the salar...    meeting  \n",
       "4                   let's shoot for tuesday at 1145.      other  "
      ]
     },
     "execution_count": 16,
     "metadata": {},
     "output_type": "execute_result"
    }
   ],
   "source": [
    "df.head()"
   ]
  },
  {
   "cell_type": "code",
   "execution_count": 17,
   "id": "768ea625",
   "metadata": {},
   "outputs": [
    {
     "data": {
      "text/plain": [
       "email_type\n",
       "other       293750\n",
       "meeting     114892\n",
       "project      52893\n",
       "request      51973\n",
       "reminder      3893\n",
       "Name: count, dtype: int64"
      ]
     },
     "execution_count": 17,
     "metadata": {},
     "output_type": "execute_result"
    }
   ],
   "source": [
    "# Check distribution\n",
    "df['email_type'].value_counts()"
   ]
  },
  {
   "cell_type": "code",
   "execution_count": null,
   "id": "69203cdc",
   "metadata": {},
   "outputs": [],
   "source": [
    "# filtered the emails based selected categories\n",
    "lst = keywords.keys()\n",
    "df_filtered = df[df['email_type'].isin(lst)][['file', 'body', 'email_type']].reset_index(drop=True)"
   ]
  },
  {
   "cell_type": "code",
   "execution_count": 19,
   "id": "2122ee6d",
   "metadata": {},
   "outputs": [
    {
     "data": {
      "text/html": [
       "<div>\n",
       "<style scoped>\n",
       "    .dataframe tbody tr th:only-of-type {\n",
       "        vertical-align: middle;\n",
       "    }\n",
       "\n",
       "    .dataframe tbody tr th {\n",
       "        vertical-align: top;\n",
       "    }\n",
       "\n",
       "    .dataframe thead th {\n",
       "        text-align: right;\n",
       "    }\n",
       "</style>\n",
       "<table border=\"1\" class=\"dataframe\">\n",
       "  <thead>\n",
       "    <tr style=\"text-align: right;\">\n",
       "      <th></th>\n",
       "      <th>file</th>\n",
       "      <th>body</th>\n",
       "      <th>email_type</th>\n",
       "    </tr>\n",
       "  </thead>\n",
       "  <tbody>\n",
       "    <tr>\n",
       "      <th>0</th>\n",
       "      <td>allen-p/_sent_mail/10.</td>\n",
       "      <td>traveling to have a business meeting takes the...</td>\n",
       "      <td>meeting</td>\n",
       "    </tr>\n",
       "    <tr>\n",
       "      <th>1</th>\n",
       "      <td>allen-p/_sent_mail/1000.</td>\n",
       "      <td>randy, can you send me a schedule of the salar...</td>\n",
       "      <td>meeting</td>\n",
       "    </tr>\n",
       "    <tr>\n",
       "      <th>2</th>\n",
       "      <td>allen-p/_sent_mail/1003.</td>\n",
       "      <td>please cc the following distribution list with...</td>\n",
       "      <td>project</td>\n",
       "    </tr>\n",
       "    <tr>\n",
       "      <th>3</th>\n",
       "      <td>allen-p/_sent_mail/102.</td>\n",
       "      <td>forwarded by phillip k allenhouect on 10162000...</td>\n",
       "      <td>reminder</td>\n",
       "    </tr>\n",
       "    <tr>\n",
       "      <th>4</th>\n",
       "      <td>allen-p/_sent_mail/103.</td>\n",
       "      <td>mr. buckner, for delivered gas behind san dieg...</td>\n",
       "      <td>request</td>\n",
       "    </tr>\n",
       "  </tbody>\n",
       "</table>\n",
       "</div>"
      ],
      "text/plain": [
       "                       file  \\\n",
       "0    allen-p/_sent_mail/10.   \n",
       "1  allen-p/_sent_mail/1000.   \n",
       "2  allen-p/_sent_mail/1003.   \n",
       "3   allen-p/_sent_mail/102.   \n",
       "4   allen-p/_sent_mail/103.   \n",
       "\n",
       "                                                body email_type  \n",
       "0  traveling to have a business meeting takes the...    meeting  \n",
       "1  randy, can you send me a schedule of the salar...    meeting  \n",
       "2  please cc the following distribution list with...    project  \n",
       "3  forwarded by phillip k allenhouect on 10162000...   reminder  \n",
       "4  mr. buckner, for delivered gas behind san dieg...    request  "
      ]
     },
     "execution_count": 19,
     "metadata": {},
     "output_type": "execute_result"
    }
   ],
   "source": [
    "df_filtered.head()"
   ]
  },
  {
   "cell_type": "code",
   "execution_count": 20,
   "id": "74e77d44",
   "metadata": {},
   "outputs": [
    {
     "data": {
      "text/plain": [
       "(223651, 3)"
      ]
     },
     "execution_count": 20,
     "metadata": {},
     "output_type": "execute_result"
    }
   ],
   "source": [
    "df_filtered.shape"
   ]
  },
  {
   "cell_type": "code",
   "execution_count": null,
   "id": "0d47674f",
   "metadata": {},
   "outputs": [
    {
     "data": {
      "text/plain": [
       "email_type\n",
       "meeting     114892\n",
       "project      52893\n",
       "request      51973\n",
       "reminder      3893\n",
       "Name: count, dtype: int64"
      ]
     },
     "execution_count": 21,
     "metadata": {},
     "output_type": "execute_result"
    }
   ],
   "source": [
    "# check distribution after filtered\n",
    "df_filtered['email_type'].value_counts()"
   ]
  },
  {
   "cell_type": "code",
   "execution_count": null,
   "id": "d494aeaf",
   "metadata": {},
   "outputs": [],
   "source": [
    "# save the filtered data for further analysis\n",
    "df_filtered.to_csv(\"../data/filtered_enron_emails.csv\", index=False)"
   ]
  },
  {
   "cell_type": "code",
   "execution_count": null,
   "id": "428e0a8c",
   "metadata": {},
   "outputs": [],
   "source": []
  }
 ],
 "metadata": {
  "kernelspec": {
   "display_name": "Python 3",
   "language": "python",
   "name": "python3"
  },
  "language_info": {
   "codemirror_mode": {
    "name": "ipython",
    "version": 3
   },
   "file_extension": ".py",
   "mimetype": "text/x-python",
   "name": "python",
   "nbconvert_exporter": "python",
   "pygments_lexer": "ipython3",
   "version": "3.12.0"
  }
 },
 "nbformat": 4,
 "nbformat_minor": 5
}
